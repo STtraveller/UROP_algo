{
 "cells": [
  {
   "cell_type": "markdown",
   "metadata": {},
   "source": [
    "matching between transcripts and audios"
   ]
  },
  {
   "cell_type": "code",
   "execution_count": 1,
   "metadata": {},
   "outputs": [],
   "source": [
    "import pandas as pd\n",
    "import numpy as py"
   ]
  },
  {
   "cell_type": "code",
   "execution_count": 2,
   "metadata": {},
   "outputs": [],
   "source": [
    "transcripts = pd.read_csv(\"transcript_metadata.csv\", encoding = \"ISO-8859-1\")\n",
    "audios = pd.read_csv(\"audio_metadata.csv\")\n",
    "transcripts_final = transcripts"
   ]
  },
  {
   "cell_type": "code",
   "execution_count": 3,
   "metadata": {},
   "outputs": [
    {
     "name": "stderr",
     "output_type": "stream",
     "text": [
      "/Library/Frameworks/Python.framework/Versions/3.7/lib/python3.7/site-packages/dateutil/parser/_parser.py:1206: UnknownTimezoneWarning: tzname ET identified but not understood.  Pass `tzinfos` argument in order to correctly return a timezone-aware datetime.  In a future version, this will raise an exception.\n",
      "  category=UnknownTimezoneWarning)\n",
      "/Library/Frameworks/Python.framework/Versions/3.7/lib/python3.7/site-packages/dateutil/parser/_parser.py:1206: UnknownTimezoneWarning: tzname EST identified but not understood.  Pass `tzinfos` argument in order to correctly return a timezone-aware datetime.  In a future version, this will raise an exception.\n",
      "  category=UnknownTimezoneWarning)\n"
     ]
    }
   ],
   "source": [
    "transcripts[\"TextDateTime\"] = transcripts[\"TextDateTime\"].astype(str)\n",
    "transcripts[\"Year\"] = transcripts[\"Year\"].astype(str)\n",
    "transcripts[\"Quarter\"] = pd.to_datetime(transcripts[\"TextDateTime\"]).dt.quarter\n",
    "transcripts[\"Quarter\"] = transcripts[\"Quarter\"].fillna(0)\n",
    "transcripts[\"Quarter\"] = transcripts[\"Quarter\"].astype(int)"
   ]
  },
  {
   "cell_type": "markdown",
   "metadata": {},
   "source": [
    "fixing the date format in audios"
   ]
  },
  {
   "cell_type": "code",
   "execution_count": 4,
   "metadata": {},
   "outputs": [],
   "source": [
    "dates_list = []\n",
    "audios[\"Date\"] = audios[\"Date\"].astype(str)\n",
    "for date in audios[\"Date\"]:\n",
    "    date_list = date.split(\"/\")\n",
    "    if len(date_list[0]) == 1:\n",
    "        date_list[0] = \"0\" + date_list[0]\n",
    "    if len(date_list[1]) == 1:\n",
    "        date_list[1] = \"0\" + date_list[1]\n",
    "    dates_list.append(\"/\".join(date_list))\n",
    "audios[\"Date\"] = pd.DataFrame(dates_list)"
   ]
  },
  {
   "cell_type": "markdown",
   "metadata": {},
   "source": [
    "add a Date field to transcripts in MM/DD/YY"
   ]
  },
  {
   "cell_type": "code",
   "execution_count": 5,
   "metadata": {},
   "outputs": [],
   "source": [
    "date_list = []\n",
    "for date in transcripts.TextDateTime:\n",
    "    try:\n",
    "        temp = date[5:7]+ \"/\" + date[8:10] + \"/\" + date[0:4]\n",
    "    except BaseException:\n",
    "        date_list.append(0)\n",
    "    else:\n",
    "        date_list.append(temp)\n",
    "transcripts[\"Date\"] = pd.DataFrame(date_list)"
   ]
  },
  {
   "cell_type": "code",
   "execution_count": 6,
   "metadata": {},
   "outputs": [
    {
     "data": {
      "text/html": [
       "<div>\n",
       "<style scoped>\n",
       "    .dataframe tbody tr th:only-of-type {\n",
       "        vertical-align: middle;\n",
       "    }\n",
       "\n",
       "    .dataframe tbody tr th {\n",
       "        vertical-align: top;\n",
       "    }\n",
       "\n",
       "    .dataframe thead th {\n",
       "        text-align: right;\n",
       "    }\n",
       "</style>\n",
       "<table border=\"1\" class=\"dataframe\">\n",
       "  <thead>\n",
       "    <tr style=\"text-align: right;\">\n",
       "      <th></th>\n",
       "      <th>Name</th>\n",
       "      <th>Exchange</th>\n",
       "      <th>Symbol</th>\n",
       "      <th>Description</th>\n",
       "      <th>Month</th>\n",
       "      <th>Day</th>\n",
       "      <th>Year</th>\n",
       "      <th>Time</th>\n",
       "      <th>APM</th>\n",
       "      <th>TimeZone</th>\n",
       "      <th>TextDateTime</th>\n",
       "      <th>Person</th>\n",
       "      <th>Title/Institution</th>\n",
       "      <th>Role</th>\n",
       "      <th>Quarter</th>\n",
       "      <th>Date</th>\n",
       "    </tr>\n",
       "  </thead>\n",
       "  <tbody>\n",
       "    <tr>\n",
       "      <th>0</th>\n",
       "      <td>First Solar, Inc.</td>\n",
       "      <td>NASDAQ</td>\n",
       "      <td>FSLR</td>\n",
       "      <td>First Solar, Inc. (FSLR) CEO Mark Widmar on 20...</td>\n",
       "      <td>December</td>\n",
       "      <td>11</td>\n",
       "      <td>2018</td>\n",
       "      <td>4:30</td>\n",
       "      <td>PM</td>\n",
       "      <td>ET</td>\n",
       "      <td>2018-12-11 16:30 ET</td>\n",
       "      <td>Steve Haymore</td>\n",
       "      <td>Investor Relations</td>\n",
       "      <td>E</td>\n",
       "      <td>4</td>\n",
       "      <td>12/11/2018</td>\n",
       "    </tr>\n",
       "    <tr>\n",
       "      <th>1</th>\n",
       "      <td>First Solar, Inc.</td>\n",
       "      <td>NASDAQ</td>\n",
       "      <td>FSLR</td>\n",
       "      <td>First Solar, Inc. (FSLR) CEO Mark Widmar on 20...</td>\n",
       "      <td>December</td>\n",
       "      <td>11</td>\n",
       "      <td>2018</td>\n",
       "      <td>4:30</td>\n",
       "      <td>PM</td>\n",
       "      <td>ET</td>\n",
       "      <td>2018-12-11 16:30 ET</td>\n",
       "      <td>Mark Widmar</td>\n",
       "      <td>Chief Executive Officer</td>\n",
       "      <td>E</td>\n",
       "      <td>4</td>\n",
       "      <td>12/11/2018</td>\n",
       "    </tr>\n",
       "    <tr>\n",
       "      <th>2</th>\n",
       "      <td>First Solar, Inc.</td>\n",
       "      <td>NASDAQ</td>\n",
       "      <td>FSLR</td>\n",
       "      <td>First Solar, Inc. (FSLR) CEO Mark Widmar on 20...</td>\n",
       "      <td>December</td>\n",
       "      <td>11</td>\n",
       "      <td>2018</td>\n",
       "      <td>4:30</td>\n",
       "      <td>PM</td>\n",
       "      <td>ET</td>\n",
       "      <td>2018-12-11 16:30 ET</td>\n",
       "      <td>Alex Bradley</td>\n",
       "      <td>Chief Financial Officer</td>\n",
       "      <td>E</td>\n",
       "      <td>4</td>\n",
       "      <td>12/11/2018</td>\n",
       "    </tr>\n",
       "    <tr>\n",
       "      <th>3</th>\n",
       "      <td>First Solar, Inc.</td>\n",
       "      <td>NASDAQ</td>\n",
       "      <td>FSLR</td>\n",
       "      <td>First Solar, Inc. (FSLR) CEO Mark Widmar on 20...</td>\n",
       "      <td>December</td>\n",
       "      <td>11</td>\n",
       "      <td>2018</td>\n",
       "      <td>4:30</td>\n",
       "      <td>PM</td>\n",
       "      <td>ET</td>\n",
       "      <td>2018-12-11 16:30 ET</td>\n",
       "      <td>Philip Shen</td>\n",
       "      <td>ROTH Capital Partners</td>\n",
       "      <td>A</td>\n",
       "      <td>4</td>\n",
       "      <td>12/11/2018</td>\n",
       "    </tr>\n",
       "    <tr>\n",
       "      <th>4</th>\n",
       "      <td>First Solar, Inc.</td>\n",
       "      <td>NASDAQ</td>\n",
       "      <td>FSLR</td>\n",
       "      <td>First Solar, Inc. (FSLR) CEO Mark Widmar on 20...</td>\n",
       "      <td>December</td>\n",
       "      <td>11</td>\n",
       "      <td>2018</td>\n",
       "      <td>4:30</td>\n",
       "      <td>PM</td>\n",
       "      <td>ET</td>\n",
       "      <td>2018-12-11 16:30 ET</td>\n",
       "      <td>Brian Lee</td>\n",
       "      <td>Goldman Sachs</td>\n",
       "      <td>A</td>\n",
       "      <td>4</td>\n",
       "      <td>12/11/2018</td>\n",
       "    </tr>\n",
       "  </tbody>\n",
       "</table>\n",
       "</div>"
      ],
      "text/plain": [
       "                Name Exchange Symbol  \\\n",
       "0  First Solar, Inc.   NASDAQ   FSLR   \n",
       "1  First Solar, Inc.   NASDAQ   FSLR   \n",
       "2  First Solar, Inc.   NASDAQ   FSLR   \n",
       "3  First Solar, Inc.   NASDAQ   FSLR   \n",
       "4  First Solar, Inc.   NASDAQ   FSLR   \n",
       "\n",
       "                                         Description     Month  Day  Year  \\\n",
       "0  First Solar, Inc. (FSLR) CEO Mark Widmar on 20...  December   11  2018   \n",
       "1  First Solar, Inc. (FSLR) CEO Mark Widmar on 20...  December   11  2018   \n",
       "2  First Solar, Inc. (FSLR) CEO Mark Widmar on 20...  December   11  2018   \n",
       "3  First Solar, Inc. (FSLR) CEO Mark Widmar on 20...  December   11  2018   \n",
       "4  First Solar, Inc. (FSLR) CEO Mark Widmar on 20...  December   11  2018   \n",
       "\n",
       "   Time APM TimeZone         TextDateTime         Person  \\\n",
       "0  4:30  PM       ET  2018-12-11 16:30 ET  Steve Haymore   \n",
       "1  4:30  PM       ET  2018-12-11 16:30 ET    Mark Widmar   \n",
       "2  4:30  PM       ET  2018-12-11 16:30 ET   Alex Bradley   \n",
       "3  4:30  PM       ET  2018-12-11 16:30 ET    Philip Shen   \n",
       "4  4:30  PM       ET  2018-12-11 16:30 ET      Brian Lee   \n",
       "\n",
       "         Title/Institution Role  Quarter        Date  \n",
       "0       Investor Relations    E        4  12/11/2018  \n",
       "1  Chief Executive Officer    E        4  12/11/2018  \n",
       "2  Chief Financial Officer    E        4  12/11/2018  \n",
       "3    ROTH Capital Partners    A        4  12/11/2018  \n",
       "4            Goldman Sachs    A        4  12/11/2018  "
      ]
     },
     "execution_count": 6,
     "metadata": {},
     "output_type": "execute_result"
    }
   ],
   "source": [
    "transcripts.head()"
   ]
  },
  {
   "cell_type": "code",
   "execution_count": 7,
   "metadata": {},
   "outputs": [
    {
     "data": {
      "text/html": [
       "<div>\n",
       "<style scoped>\n",
       "    .dataframe tbody tr th:only-of-type {\n",
       "        vertical-align: middle;\n",
       "    }\n",
       "\n",
       "    .dataframe tbody tr th {\n",
       "        vertical-align: top;\n",
       "    }\n",
       "\n",
       "    .dataframe thead th {\n",
       "        text-align: right;\n",
       "    }\n",
       "</style>\n",
       "<table border=\"1\" class=\"dataframe\">\n",
       "  <thead>\n",
       "    <tr style=\"text-align: right;\">\n",
       "      <th></th>\n",
       "      <th>Ticker</th>\n",
       "      <th>Quarter</th>\n",
       "      <th>Year</th>\n",
       "      <th>Name</th>\n",
       "      <th>Act</th>\n",
       "      <th>Est</th>\n",
       "      <th>Date</th>\n",
       "      <th>Time</th>\n",
       "      <th>Timezone</th>\n",
       "      <th>Length</th>\n",
       "      <th>Filename</th>\n",
       "    </tr>\n",
       "  </thead>\n",
       "  <tbody>\n",
       "    <tr>\n",
       "      <th>0</th>\n",
       "      <td>OHRP</td>\n",
       "      <td>Q4</td>\n",
       "      <td>2017</td>\n",
       "      <td>Ohr Pharmaceuticals, Inc.</td>\n",
       "      <td>Act -0.08</td>\n",
       "      <td>Est -0.08</td>\n",
       "      <td>12/15/2017</td>\n",
       "      <td>8:30 am</td>\n",
       "      <td>EST</td>\n",
       "      <td>9:55</td>\n",
       "      <td>Q4_2017_Ohr_Pharmaceuticals,_Inc._Earnings_Con...</td>\n",
       "    </tr>\n",
       "    <tr>\n",
       "      <th>1</th>\n",
       "      <td>BOOT</td>\n",
       "      <td>Q3</td>\n",
       "      <td>2018</td>\n",
       "      <td>Boot Barn Holdings, Inc.</td>\n",
       "      <td>NaN</td>\n",
       "      <td>NaN</td>\n",
       "      <td>01/31/2018</td>\n",
       "      <td>4:30 pm</td>\n",
       "      <td>EST</td>\n",
       "      <td>0:10</td>\n",
       "      <td>Q3_2018_Boot_Barn_Holdings,_Inc._Earnings_Conf...</td>\n",
       "    </tr>\n",
       "    <tr>\n",
       "      <th>2</th>\n",
       "      <td>PAYX</td>\n",
       "      <td>Q2</td>\n",
       "      <td>2018</td>\n",
       "      <td>Paychex, Inc.</td>\n",
       "      <td>Act 0.59</td>\n",
       "      <td>Est 0.594</td>\n",
       "      <td>12/21/2017</td>\n",
       "      <td>9:30 am</td>\n",
       "      <td>EST</td>\n",
       "      <td>1:20:13</td>\n",
       "      <td>Q2_2018_Paychex,_Inc._Earnings_Conference_call...</td>\n",
       "    </tr>\n",
       "    <tr>\n",
       "      <th>3</th>\n",
       "      <td>AU</td>\n",
       "      <td>Q4</td>\n",
       "      <td>2017</td>\n",
       "      <td>Anglo Gold Ashanti Limited</td>\n",
       "      <td>NaN</td>\n",
       "      <td>NaN</td>\n",
       "      <td>02/21/2018</td>\n",
       "      <td>8:00 am</td>\n",
       "      <td>EST</td>\n",
       "      <td>0:10</td>\n",
       "      <td>Q4_2017_Anglo_Gold_Ashanti_Limited_Earnings_Co...</td>\n",
       "    </tr>\n",
       "    <tr>\n",
       "      <th>4</th>\n",
       "      <td>CYOU</td>\n",
       "      <td>Q4</td>\n",
       "      <td>2017</td>\n",
       "      <td>Changyou.Com Limited</td>\n",
       "      <td>NaN</td>\n",
       "      <td>NaN</td>\n",
       "      <td>02/21/2018</td>\n",
       "      <td>7:00 am</td>\n",
       "      <td>EST</td>\n",
       "      <td>0:10</td>\n",
       "      <td>Q4_2017_Changyou.Com_Limited_Earnings_Conferen...</td>\n",
       "    </tr>\n",
       "  </tbody>\n",
       "</table>\n",
       "</div>"
      ],
      "text/plain": [
       "  Ticker Quarter  Year                        Name        Act        Est  \\\n",
       "0   OHRP      Q4  2017   Ohr Pharmaceuticals, Inc.  Act -0.08  Est -0.08   \n",
       "1   BOOT      Q3  2018    Boot Barn Holdings, Inc.        NaN        NaN   \n",
       "2   PAYX      Q2  2018               Paychex, Inc.   Act 0.59  Est 0.594   \n",
       "3     AU      Q4  2017  Anglo Gold Ashanti Limited        NaN        NaN   \n",
       "4   CYOU      Q4  2017        Changyou.Com Limited        NaN        NaN   \n",
       "\n",
       "         Date     Time Timezone   Length  \\\n",
       "0  12/15/2017  8:30 am      EST     9:55   \n",
       "1  01/31/2018  4:30 pm      EST     0:10   \n",
       "2  12/21/2017  9:30 am      EST  1:20:13   \n",
       "3  02/21/2018  8:00 am      EST     0:10   \n",
       "4  02/21/2018  7:00 am      EST     0:10   \n",
       "\n",
       "                                            Filename  \n",
       "0  Q4_2017_Ohr_Pharmaceuticals,_Inc._Earnings_Con...  \n",
       "1  Q3_2018_Boot_Barn_Holdings,_Inc._Earnings_Conf...  \n",
       "2  Q2_2018_Paychex,_Inc._Earnings_Conference_call...  \n",
       "3  Q4_2017_Anglo_Gold_Ashanti_Limited_Earnings_Co...  \n",
       "4  Q4_2017_Changyou.Com_Limited_Earnings_Conferen...  "
      ]
     },
     "execution_count": 7,
     "metadata": {},
     "output_type": "execute_result"
    }
   ],
   "source": [
    "audios.head()"
   ]
  },
  {
   "cell_type": "code",
   "execution_count": 9,
   "metadata": {},
   "outputs": [
    {
     "name": "stdout",
     "output_type": "stream",
     "text": [
      "0\n",
      "10000\n",
      "20000\n",
      "30000\n",
      "40000\n",
      "50000\n",
      "60000\n",
      "70000\n",
      "80000\n",
      "90000\n",
      "100000\n",
      "110000\n",
      "120000\n",
      "130000\n",
      "140000\n",
      "150000\n",
      "160000\n",
      "170000\n",
      "180000\n",
      "190000\n",
      "200000\n",
      "210000\n",
      "220000\n",
      "230000\n",
      "240000\n",
      "250000\n",
      "260000\n",
      "270000\n",
      "280000\n",
      "290000\n",
      "300000\n",
      "310000\n",
      "320000\n",
      "330000\n",
      "340000\n",
      "350000\n",
      "360000\n",
      "370000\n",
      "380000\n",
      "390000\n",
      "400000\n",
      "410000\n",
      "420000\n",
      "430000\n",
      "440000\n",
      "450000\n",
      "460000\n",
      "470000\n",
      "480000\n",
      "490000\n",
      "500000\n",
      "510000\n",
      "520000\n",
      "530000\n",
      "540000\n",
      "550000\n",
      "560000\n",
      "570000\n",
      "580000\n",
      "590000\n",
      "600000\n",
      "610000\n",
      "620000\n",
      "630000\n",
      "640000\n",
      "650000\n",
      "660000\n",
      "670000\n",
      "680000\n",
      "690000\n",
      "700000\n",
      "710000\n",
      "720000\n",
      "730000\n",
      "740000\n",
      "750000\n",
      "760000\n",
      "770000\n",
      "780000\n",
      "790000\n",
      "800000\n",
      "810000\n",
      "820000\n",
      "830000\n",
      "840000\n",
      "850000\n",
      "860000\n",
      "870000\n",
      "880000\n",
      "890000\n",
      "900000\n",
      "910000\n",
      "920000\n",
      "930000\n",
      "940000\n",
      "950000\n",
      "960000\n",
      "970000\n",
      "980000\n",
      "990000\n",
      "1000000\n",
      "1010000\n",
      "1020000\n",
      "1030000\n",
      "1040000\n"
     ]
    }
   ],
   "source": [
    "filename_list = []\n",
    "for transcript in transcripts.itertuples(index=True, name='Pandas'):\n",
    "    flag = False\n",
    "    for audio in audios.loc[(audios[\"Ticker\"] == transcript[3]) & (audios[\"Date\"] == transcript[16])].itertuples(index=True, name='Pandas'):\n",
    "        filename_list.append(audio[11])\n",
    "        flag = True\n",
    "        break\n",
    "    if not flag:\n",
    "        filename_list.append(\"NaN\")\n",
    "    if transcript[0] % 10000 == 0:\n",
    "        print(transcript[0])\n",
    "\n",
    "transcripts_final[\"the corresponding audio file name\"] = pd.DataFrame(filename_list)"
   ]
  },
  {
   "cell_type": "raw",
   "metadata": {},
   "source": [
    "for transcript in transcripts.itertuples(index=True, name='Pandas'):\n",
    "    for audio in audios.loc[(audios[\"Ticker\"] == transcript[2]) & (audios[\"Date\"] == transcript[16])].itertuples(index=True, name='Pandas'):\n",
    "        print(transcript[16])\n",
    "        print(type(transcript[16]))\n",
    "        print(audio[7])\n",
    "        print(type(audio[7]))\n",
    "        break\n",
    "    break"
   ]
  },
  {
   "cell_type": "raw",
   "metadata": {},
   "source": [
    "filename_list = []\n",
    "\n",
    "for transcript in transcripts.itertuples(index=True, name='Pandas'):\n",
    "    for audio in audios.loc[(audios[\"Ticker\"] == transcript[2]) & (audios[\"Date\"] == transcript[16])].itertuples(index=True, name='Pandas'):\n",
    "        if (transcript[2]==audio[1]) and (transcript[7]==audio[3]) and (transcript[15]==audio[2][1]) and (transcript[16]==audio[7]) and (transcript[1]==audio[4]):\n",
    "            filename_list.append(audio[11])\n",
    "            break\n",
    "    filename_list.append(\"NaN\")\n",
    "\n",
    "transcripts_final[\"the corresponding audio file name\"] = pd.DataFrame(filename_list)"
   ]
  },
  {
   "cell_type": "markdown",
   "metadata": {},
   "source": [
    "export"
   ]
  },
  {
   "cell_type": "code",
   "execution_count": 10,
   "metadata": {},
   "outputs": [],
   "source": [
    "transcripts_final.to_csv(\"final.csv\", index=False)"
   ]
  },
  {
   "cell_type": "markdown",
   "metadata": {},
   "source": [
    "audio conversion"
   ]
  },
  {
   "cell_type": "markdown",
   "metadata": {},
   "source": [
    "install ffmpeg, pydub before using"
   ]
  },
  {
   "cell_type": "markdown",
   "metadata": {},
   "source": [
    "m4a -> mp3 increase file size a HELL LOT, be aware when using"
   ]
  },
  {
   "cell_type": "code",
   "execution_count": 3,
   "metadata": {},
   "outputs": [],
   "source": [
    "from pydub import AudioSegment\n",
    "import os"
   ]
  },
  {
   "cell_type": "markdown",
   "metadata": {},
   "source": [
    "config the input output directories manually"
   ]
  },
  {
   "cell_type": "code",
   "execution_count": 28,
   "metadata": {},
   "outputs": [],
   "source": [
    "path = os.getcwd()\n",
    "audio_input_folder = \"sample\"\n",
    "audio_output_folder = \"audio_output\""
   ]
  },
  {
   "cell_type": "markdown",
   "metadata": {},
   "source": [
    "single file conversion"
   ]
  },
  {
   "cell_type": "code",
   "execution_count": 11,
   "metadata": {},
   "outputs": [],
   "source": [
    "sound = AudioSegment.from_file(path +\"/\" audio_input_folder + \"/\" + \"1Q_2013_Pike_Electric_Corporation_Earnings_Conference_Call.m4a\")\n",
    "sound.export(path + \"/\" + audio_output_folder + \"/\" + \"test.mp3\", format=\"mp3\", bitrate=\"128k\")"
   ]
  },
  {
   "cell_type": "markdown",
   "metadata": {},
   "source": [
    "batch conversion"
   ]
  },
  {
   "cell_type": "markdown",
   "metadata": {},
   "source": [
    "BE AWARE OF THE LAGGGGGGGG"
   ]
  },
  {
   "cell_type": "code",
   "execution_count": 29,
   "metadata": {},
   "outputs": [],
   "source": [
    "filelist = os.listdir(path + \"/\" + audio_input_folder)"
   ]
  },
  {
   "cell_type": "markdown",
   "metadata": {},
   "source": [
    "file checking"
   ]
  },
  {
   "cell_type": "code",
   "execution_count": 30,
   "metadata": {},
   "outputs": [],
   "source": [
    "for file in filelist:\n",
    "    if len(file) <= 5:\n",
    "        filelist.remove(file)\n",
    "        print(file + \" is wrong\")\n",
    "    elif file[-4:] != \".m4a\":\n",
    "        filelist.remove(file)\n",
    "        print(file + \" is wrong\")"
   ]
  },
  {
   "cell_type": "code",
   "execution_count": 31,
   "metadata": {},
   "outputs": [],
   "source": [
    "for file in filelist:\n",
    "    sound = AudioSegment.from_file(path + \"/\" + audio_input_folder + \"/\" + file)\n",
    "    mp3name = file[:-4] + \".mp3\"\n",
    "    sound.export(path + \"/\" + audio_output_folder + \"/\" + mp3name, format=\"mp3\", bitrate=\"128k\")"
   ]
  }
 ],
 "metadata": {
  "kernelspec": {
   "display_name": "Python 3",
   "language": "python",
   "name": "python3"
  },
  "language_info": {
   "codemirror_mode": {
    "name": "ipython",
    "version": 3
   },
   "file_extension": ".py",
   "mimetype": "text/x-python",
   "name": "python",
   "nbconvert_exporter": "python",
   "pygments_lexer": "ipython3",
   "version": "3.7.3"
  }
 },
 "nbformat": 4,
 "nbformat_minor": 4
}

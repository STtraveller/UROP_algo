{
 "cells": [
  {
   "cell_type": "code",
   "execution_count": 1,
   "metadata": {},
   "outputs": [],
   "source": [
    "import pandas as pd\n",
    "import numpy as py"
   ]
  },
  {
   "cell_type": "code",
   "execution_count": 3,
   "metadata": {},
   "outputs": [],
   "source": [
    "transcripts = pd.read_csv(\"transcript_metadata.csv\",encoding = \"ISO-8859-1\")\n",
    "audios = pd.read_csv(\"audio_metadata.csv\")"
   ]
  },
  {
   "cell_type": "code",
   "execution_count": 4,
   "metadata": {},
   "outputs": [
    {
     "data": {
      "text/html": [
       "<div>\n",
       "<style scoped>\n",
       "    .dataframe tbody tr th:only-of-type {\n",
       "        vertical-align: middle;\n",
       "    }\n",
       "\n",
       "    .dataframe tbody tr th {\n",
       "        vertical-align: top;\n",
       "    }\n",
       "\n",
       "    .dataframe thead th {\n",
       "        text-align: right;\n",
       "    }\n",
       "</style>\n",
       "<table border=\"1\" class=\"dataframe\">\n",
       "  <thead>\n",
       "    <tr style=\"text-align: right;\">\n",
       "      <th></th>\n",
       "      <th>Name</th>\n",
       "      <th>Exchange</th>\n",
       "      <th>Symbol</th>\n",
       "      <th>Description</th>\n",
       "      <th>Month</th>\n",
       "      <th>Day</th>\n",
       "      <th>Year</th>\n",
       "      <th>Time</th>\n",
       "      <th>APM</th>\n",
       "      <th>TimeZone</th>\n",
       "      <th>TextDateTime</th>\n",
       "      <th>Person</th>\n",
       "      <th>Title/Institution</th>\n",
       "      <th>Role</th>\n",
       "    </tr>\n",
       "  </thead>\n",
       "  <tbody>\n",
       "    <tr>\n",
       "      <th>0</th>\n",
       "      <td>First Solar, Inc.</td>\n",
       "      <td>NASDAQ</td>\n",
       "      <td>FSLR</td>\n",
       "      <td>First Solar, Inc. (FSLR) CEO Mark Widmar on 20...</td>\n",
       "      <td>December</td>\n",
       "      <td>11</td>\n",
       "      <td>2018</td>\n",
       "      <td>4:30</td>\n",
       "      <td>PM</td>\n",
       "      <td>ET</td>\n",
       "      <td>2018-12-11 16:30 ET</td>\n",
       "      <td>Steve Haymore</td>\n",
       "      <td>Investor Relations</td>\n",
       "      <td>E</td>\n",
       "    </tr>\n",
       "    <tr>\n",
       "      <th>1</th>\n",
       "      <td>First Solar, Inc.</td>\n",
       "      <td>NASDAQ</td>\n",
       "      <td>FSLR</td>\n",
       "      <td>First Solar, Inc. (FSLR) CEO Mark Widmar on 20...</td>\n",
       "      <td>December</td>\n",
       "      <td>11</td>\n",
       "      <td>2018</td>\n",
       "      <td>4:30</td>\n",
       "      <td>PM</td>\n",
       "      <td>ET</td>\n",
       "      <td>2018-12-11 16:30 ET</td>\n",
       "      <td>Mark Widmar</td>\n",
       "      <td>Chief Executive Officer</td>\n",
       "      <td>E</td>\n",
       "    </tr>\n",
       "    <tr>\n",
       "      <th>2</th>\n",
       "      <td>First Solar, Inc.</td>\n",
       "      <td>NASDAQ</td>\n",
       "      <td>FSLR</td>\n",
       "      <td>First Solar, Inc. (FSLR) CEO Mark Widmar on 20...</td>\n",
       "      <td>December</td>\n",
       "      <td>11</td>\n",
       "      <td>2018</td>\n",
       "      <td>4:30</td>\n",
       "      <td>PM</td>\n",
       "      <td>ET</td>\n",
       "      <td>2018-12-11 16:30 ET</td>\n",
       "      <td>Alex Bradley</td>\n",
       "      <td>Chief Financial Officer</td>\n",
       "      <td>E</td>\n",
       "    </tr>\n",
       "    <tr>\n",
       "      <th>3</th>\n",
       "      <td>First Solar, Inc.</td>\n",
       "      <td>NASDAQ</td>\n",
       "      <td>FSLR</td>\n",
       "      <td>First Solar, Inc. (FSLR) CEO Mark Widmar on 20...</td>\n",
       "      <td>December</td>\n",
       "      <td>11</td>\n",
       "      <td>2018</td>\n",
       "      <td>4:30</td>\n",
       "      <td>PM</td>\n",
       "      <td>ET</td>\n",
       "      <td>2018-12-11 16:30 ET</td>\n",
       "      <td>Philip Shen</td>\n",
       "      <td>ROTH Capital Partners</td>\n",
       "      <td>A</td>\n",
       "    </tr>\n",
       "    <tr>\n",
       "      <th>4</th>\n",
       "      <td>First Solar, Inc.</td>\n",
       "      <td>NASDAQ</td>\n",
       "      <td>FSLR</td>\n",
       "      <td>First Solar, Inc. (FSLR) CEO Mark Widmar on 20...</td>\n",
       "      <td>December</td>\n",
       "      <td>11</td>\n",
       "      <td>2018</td>\n",
       "      <td>4:30</td>\n",
       "      <td>PM</td>\n",
       "      <td>ET</td>\n",
       "      <td>2018-12-11 16:30 ET</td>\n",
       "      <td>Brian Lee</td>\n",
       "      <td>Goldman Sachs</td>\n",
       "      <td>A</td>\n",
       "    </tr>\n",
       "  </tbody>\n",
       "</table>\n",
       "</div>"
      ],
      "text/plain": [
       "                Name Exchange Symbol  \\\n",
       "0  First Solar, Inc.   NASDAQ   FSLR   \n",
       "1  First Solar, Inc.   NASDAQ   FSLR   \n",
       "2  First Solar, Inc.   NASDAQ   FSLR   \n",
       "3  First Solar, Inc.   NASDAQ   FSLR   \n",
       "4  First Solar, Inc.   NASDAQ   FSLR   \n",
       "\n",
       "                                         Description     Month  Day  Year  \\\n",
       "0  First Solar, Inc. (FSLR) CEO Mark Widmar on 20...  December   11  2018   \n",
       "1  First Solar, Inc. (FSLR) CEO Mark Widmar on 20...  December   11  2018   \n",
       "2  First Solar, Inc. (FSLR) CEO Mark Widmar on 20...  December   11  2018   \n",
       "3  First Solar, Inc. (FSLR) CEO Mark Widmar on 20...  December   11  2018   \n",
       "4  First Solar, Inc. (FSLR) CEO Mark Widmar on 20...  December   11  2018   \n",
       "\n",
       "   Time APM TimeZone         TextDateTime         Person  \\\n",
       "0  4:30  PM       ET  2018-12-11 16:30 ET  Steve Haymore   \n",
       "1  4:30  PM       ET  2018-12-11 16:30 ET    Mark Widmar   \n",
       "2  4:30  PM       ET  2018-12-11 16:30 ET   Alex Bradley   \n",
       "3  4:30  PM       ET  2018-12-11 16:30 ET    Philip Shen   \n",
       "4  4:30  PM       ET  2018-12-11 16:30 ET      Brian Lee   \n",
       "\n",
       "         Title/Institution Role  \n",
       "0       Investor Relations    E  \n",
       "1  Chief Executive Officer    E  \n",
       "2  Chief Financial Officer    E  \n",
       "3    ROTH Capital Partners    A  \n",
       "4            Goldman Sachs    A  "
      ]
     },
     "execution_count": 4,
     "metadata": {},
     "output_type": "execute_result"
    }
   ],
   "source": [
    "transcripts.head()"
   ]
  },
  {
   "cell_type": "code",
   "execution_count": 4,
   "metadata": {},
   "outputs": [
    {
     "data": {
      "text/html": [
       "<div>\n",
       "<style scoped>\n",
       "    .dataframe tbody tr th:only-of-type {\n",
       "        vertical-align: middle;\n",
       "    }\n",
       "\n",
       "    .dataframe tbody tr th {\n",
       "        vertical-align: top;\n",
       "    }\n",
       "\n",
       "    .dataframe thead th {\n",
       "        text-align: right;\n",
       "    }\n",
       "</style>\n",
       "<table border=\"1\" class=\"dataframe\">\n",
       "  <thead>\n",
       "    <tr style=\"text-align: right;\">\n",
       "      <th></th>\n",
       "      <th>Ticker</th>\n",
       "      <th>Quarter</th>\n",
       "      <th>Year</th>\n",
       "      <th>Name</th>\n",
       "      <th>Act</th>\n",
       "      <th>Est</th>\n",
       "      <th>Date</th>\n",
       "      <th>Time</th>\n",
       "      <th>Timezone</th>\n",
       "      <th>Length</th>\n",
       "      <th>Filename</th>\n",
       "    </tr>\n",
       "  </thead>\n",
       "  <tbody>\n",
       "    <tr>\n",
       "      <th>0</th>\n",
       "      <td>OHRP</td>\n",
       "      <td>Q4</td>\n",
       "      <td>2017</td>\n",
       "      <td>Ohr Pharmaceuticals, Inc.</td>\n",
       "      <td>Act -0.08</td>\n",
       "      <td>Est -0.08</td>\n",
       "      <td>12/15/2017</td>\n",
       "      <td>08:30 AM</td>\n",
       "      <td>EST</td>\n",
       "      <td>09:55</td>\n",
       "      <td>Q4_2017_Ohr_Pharmaceuticals,_Inc._Earnings_Con...</td>\n",
       "    </tr>\n",
       "    <tr>\n",
       "      <th>1</th>\n",
       "      <td>BOOT</td>\n",
       "      <td>Q3</td>\n",
       "      <td>2018</td>\n",
       "      <td>Boot Barn Holdings, Inc.</td>\n",
       "      <td>NaN</td>\n",
       "      <td>NaN</td>\n",
       "      <td>01/31/2018</td>\n",
       "      <td>04:30 PM</td>\n",
       "      <td>EST</td>\n",
       "      <td>00:10</td>\n",
       "      <td>Q3_2018_Boot_Barn_Holdings,_Inc._Earnings_Conf...</td>\n",
       "    </tr>\n",
       "    <tr>\n",
       "      <th>2</th>\n",
       "      <td>PAYX</td>\n",
       "      <td>Q2</td>\n",
       "      <td>2018</td>\n",
       "      <td>Paychex, Inc.</td>\n",
       "      <td>Act 0.59</td>\n",
       "      <td>Est 0.594</td>\n",
       "      <td>12/21/2017</td>\n",
       "      <td>09:30 AM</td>\n",
       "      <td>EST</td>\n",
       "      <td>01:20:13</td>\n",
       "      <td>Q2_2018_Paychex,_Inc._Earnings_Conference_call...</td>\n",
       "    </tr>\n",
       "    <tr>\n",
       "      <th>3</th>\n",
       "      <td>AU</td>\n",
       "      <td>Q4</td>\n",
       "      <td>2017</td>\n",
       "      <td>Anglo Gold Ashanti Limited</td>\n",
       "      <td>NaN</td>\n",
       "      <td>NaN</td>\n",
       "      <td>02/21/2018</td>\n",
       "      <td>08:00 AM</td>\n",
       "      <td>EST</td>\n",
       "      <td>00:10</td>\n",
       "      <td>Q4_2017_Anglo_Gold_Ashanti_Limited_Earnings_Co...</td>\n",
       "    </tr>\n",
       "    <tr>\n",
       "      <th>4</th>\n",
       "      <td>CYOU</td>\n",
       "      <td>Q4</td>\n",
       "      <td>2017</td>\n",
       "      <td>Changyou.Com Limited</td>\n",
       "      <td>NaN</td>\n",
       "      <td>NaN</td>\n",
       "      <td>02/21/2018</td>\n",
       "      <td>07:00 AM</td>\n",
       "      <td>EST</td>\n",
       "      <td>00:10</td>\n",
       "      <td>Q4_2017_Changyou.Com_Limited_Earnings_Conferen...</td>\n",
       "    </tr>\n",
       "  </tbody>\n",
       "</table>\n",
       "</div>"
      ],
      "text/plain": [
       "  Ticker Quarter  Year                        Name        Act        Est  \\\n",
       "0   OHRP      Q4  2017   Ohr Pharmaceuticals, Inc.  Act -0.08  Est -0.08   \n",
       "1   BOOT      Q3  2018    Boot Barn Holdings, Inc.        NaN        NaN   \n",
       "2   PAYX      Q2  2018               Paychex, Inc.   Act 0.59  Est 0.594   \n",
       "3     AU      Q4  2017  Anglo Gold Ashanti Limited        NaN        NaN   \n",
       "4   CYOU      Q4  2017        Changyou.Com Limited        NaN        NaN   \n",
       "\n",
       "         Date      Time Timezone    Length  \\\n",
       "0  12/15/2017  08:30 AM      EST     09:55   \n",
       "1  01/31/2018  04:30 PM      EST     00:10   \n",
       "2  12/21/2017  09:30 AM      EST  01:20:13   \n",
       "3  02/21/2018  08:00 AM      EST     00:10   \n",
       "4  02/21/2018  07:00 AM      EST     00:10   \n",
       "\n",
       "                                            Filename  \n",
       "0  Q4_2017_Ohr_Pharmaceuticals,_Inc._Earnings_Con...  \n",
       "1  Q3_2018_Boot_Barn_Holdings,_Inc._Earnings_Conf...  \n",
       "2  Q2_2018_Paychex,_Inc._Earnings_Conference_call...  \n",
       "3  Q4_2017_Anglo_Gold_Ashanti_Limited_Earnings_Co...  \n",
       "4  Q4_2017_Changyou.Com_Limited_Earnings_Conferen...  "
      ]
     },
     "execution_count": 4,
     "metadata": {},
     "output_type": "execute_result"
    }
   ],
   "source": [
    "audios.head()"
   ]
  },
  {
   "cell_type": "code",
   "execution_count": 5,
   "metadata": {},
   "outputs": [
    {
     "name": "stderr",
     "output_type": "stream",
     "text": [
      "/Library/Frameworks/Python.framework/Versions/3.7/lib/python3.7/site-packages/dateutil/parser/_parser.py:1206: UnknownTimezoneWarning: tzname ET identified but not understood.  Pass `tzinfos` argument in order to correctly return a timezone-aware datetime.  In a future version, this will raise an exception.\n",
      "  category=UnknownTimezoneWarning)\n",
      "/Library/Frameworks/Python.framework/Versions/3.7/lib/python3.7/site-packages/dateutil/parser/_parser.py:1206: UnknownTimezoneWarning: tzname EST identified but not understood.  Pass `tzinfos` argument in order to correctly return a timezone-aware datetime.  In a future version, this will raise an exception.\n",
      "  category=UnknownTimezoneWarning)\n"
     ]
    }
   ],
   "source": [
    "transcripts[\"Quarter\"] = pd.to_datetime(transcripts.TextDateTime).dt.quarter"
   ]
  },
  {
   "cell_type": "code",
   "execution_count": 7,
   "metadata": {},
   "outputs": [
    {
     "data": {
      "text/plain": [
       "0    Q4\n",
       "1    Q3\n",
       "2    Q2\n",
       "3    Q4\n",
       "4    Q4\n",
       "Name: Quarter, dtype: object"
      ]
     },
     "execution_count": 7,
     "metadata": {},
     "output_type": "execute_result"
    }
   ],
   "source": [
    "audios[\"Quarter\"].head()"
   ]
  },
  {
   "cell_type": "code",
   "execution_count": 10,
   "metadata": {},
   "outputs": [],
   "source": [
    "transcripts[\"Quarter\"] = pd.to_datetime(transcripts[\"TextDateTime\"]).dt.quarter"
   ]
  },
  {
   "cell_type": "code",
   "execution_count": 19,
   "metadata": {},
   "outputs": [],
   "source": [
    "transcripts[\"Quarter\"]=transcripts[\"Quarter\"].fillna(0)\n",
    "transcripts[\"Quarter\"] = transcripts[\"Quarter\"].astype(int)\n"
   ]
  },
  {
   "cell_type": "code",
   "execution_count": 6,
   "metadata": {},
   "outputs": [
    {
     "data": {
      "text/plain": [
       "'4'"
      ]
     },
     "execution_count": 6,
     "metadata": {},
     "output_type": "execute_result"
    }
   ],
   "source": [
    "audios['Quarter'][audios.index[0]][1]"
   ]
  },
  {
   "cell_type": "code",
   "execution_count": null,
   "metadata": {},
   "outputs": [],
   "source": [
    "filename = []\n",
    "for transcript in transcripts:\n",
    "    for audio in audios:\n",
    "        if (transcript[\"Symbol\"]==audio[\"Ticker\"]) && (transcript[\"Year\"]==audio[\"Year\"]) &&\n",
    "        (transcript[\"Quarter\"]==audio[\"Quarter\"][1]) &&:\n",
    "            filename.append(audio)\n",
    "        "
   ]
  },
  {
   "cell_type": "markdown",
   "metadata": {},
   "source": [
    "audio conversion"
   ]
  },
  {
   "cell_type": "markdown",
   "metadata": {},
   "source": [
    "install ffmpeg, pydub before using"
   ]
  },
  {
   "cell_type": "markdown",
   "metadata": {},
   "source": [
    "m4a -> mp3 increase file size a HELL LOT, be aware when using"
   ]
  },
  {
   "cell_type": "code",
   "execution_count": 3,
   "metadata": {},
   "outputs": [],
   "source": [
    "from pydub import AudioSegment\n",
    "import os"
   ]
  },
  {
   "cell_type": "code",
   "execution_count": 28,
   "metadata": {},
   "outputs": [],
   "source": [
    "path = os.getcwd()\n",
    "audio_input_folder = \"sample\"\n",
    "audio_output_folder = \"audio_output\""
   ]
  },
  {
   "cell_type": "markdown",
   "metadata": {},
   "source": [
    "single file conversion"
   ]
  },
  {
   "cell_type": "code",
   "execution_count": 11,
   "metadata": {},
   "outputs": [],
   "source": [
    "sound = AudioSegment.from_file(path +\"/\" audio_input_folder + \"/\" + \"1Q_2013_Pike_Electric_Corporation_Earnings_Conference_Call.m4a\")\n",
    "sound.export(path + \"/\" + audio_output_folder + \"/\" + \"test.mp3\", format=\"mp3\", bitrate=\"128k\")"
   ]
  },
  {
   "cell_type": "markdown",
   "metadata": {},
   "source": [
    "batch conversion"
   ]
  },
  {
   "cell_type": "markdown",
   "metadata": {},
   "source": [
    "BE AWARE OF THE LAGGGGGGGG"
   ]
  },
  {
   "cell_type": "code",
   "execution_count": 29,
   "metadata": {},
   "outputs": [],
   "source": [
    "filelist = os.listdir(path + \"/\" + audio_input_folder)"
   ]
  },
  {
   "cell_type": "markdown",
   "metadata": {},
   "source": [
    "file checking"
   ]
  },
  {
   "cell_type": "code",
   "execution_count": 30,
   "metadata": {},
   "outputs": [],
   "source": [
    "for file in filelist:\n",
    "    if len(file) <= 5:\n",
    "        filelist.remove(file)\n",
    "        print(file + \" is wrong\")\n",
    "    elif file[-4:] != \".m4a\":\n",
    "        filelist.remove(file)\n",
    "        print(file + \" is wrong\")"
   ]
  },
  {
   "cell_type": "code",
   "execution_count": 31,
   "metadata": {},
   "outputs": [],
   "source": [
    "for file in filelist:\n",
    "    sound = AudioSegment.from_file(path + \"/\" + audio_input_folder + \"/\" + file)\n",
    "    mp3name = file[:-4] + \".mp3\"\n",
    "    sound.export(path + \"/\" + audio_output_folder + \"/\" + mp3name, format=\"mp3\", bitrate=\"128k\")"
   ]
  }
 ],
 "metadata": {
  "kernelspec": {
   "display_name": "Python 3",
   "language": "python",
   "name": "python3"
  },
  "language_info": {
   "codemirror_mode": {
    "name": "ipython",
    "version": 3
   },
   "file_extension": ".py",
   "mimetype": "text/x-python",
   "name": "python",
   "nbconvert_exporter": "python",
   "pygments_lexer": "ipython3",
   "version": "3.7.3"
  }
 },
 "nbformat": 4,
 "nbformat_minor": 4
}
